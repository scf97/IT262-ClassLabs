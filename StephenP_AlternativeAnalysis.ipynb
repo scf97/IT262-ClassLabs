{
  "nbformat": 4,
  "nbformat_minor": 0,
  "metadata": {
    "colab": {
      "name": "StephenP_AlternativeAnalysis.ipynb",
      "provenance": []
    },
    "kernelspec": {
      "name": "python3",
      "display_name": "Python 3"
    },
    "language_info": {
      "name": "python"
    }
  },
  "cells": [
    {
      "cell_type": "code",
      "execution_count": 1,
      "metadata": {
        "colab": {
          "base_uri": "https://localhost:8080/"
        },
        "id": "7dj8Voec_AtX",
        "outputId": "57b73823-8216-4667-caec-41ecd436a178"
      },
      "outputs": [
        {
          "output_type": "stream",
          "name": "stdout",
          "text": [
            "Empty DataFrame\n",
            "Columns: [criteria, weight, ratingA, ratingB, scoreA, scoreB]\n",
            "Index: []\n"
          ]
        }
      ],
      "source": [
        "import pandas as pd\n",
        "\n",
        "#create a dataframe for our AA\n",
        "AA = pd.DataFrame(columns=['criteria','weight','ratingA','ratingB','scoreA','scoreB'])\n",
        "print(AA)"
      ]
    },
    {
      "cell_type": "code",
      "source": [
        "# first step: identify a set of criteria\n",
        "\n",
        "AA['criteria'] = ['risk','ROI','feasibility','customer satisfaction','strategic alignment']\n",
        "print(AA)"
      ],
      "metadata": {
        "colab": {
          "base_uri": "https://localhost:8080/"
        },
        "id": "5eYVZe0Q_gJs",
        "outputId": "5c96c189-27f0-4ec9-abd0-31b980c8793e"
      },
      "execution_count": 2,
      "outputs": [
        {
          "output_type": "stream",
          "name": "stdout",
          "text": [
            "                criteria weight ratingA ratingB scoreA scoreB\n",
            "0                   risk    NaN     NaN     NaN    NaN    NaN\n",
            "1                    ROI    NaN     NaN     NaN    NaN    NaN\n",
            "2            feasibility    NaN     NaN     NaN    NaN    NaN\n",
            "3  customer satisfaction    NaN     NaN     NaN    NaN    NaN\n",
            "4    strategic alignment    NaN     NaN     NaN    NaN    NaN\n"
          ]
        }
      ]
    },
    {
      "cell_type": "code",
      "source": [
        "# step 2: assign weights\n",
        "# weights show relative importance of each criterion\n",
        "# weights should add up to 1 or 100\n",
        "\n",
        "AA['weight'] = [0.1, 0.15, 0.3, 0.15, 0.3]\n",
        "print(AA)"
      ],
      "metadata": {
        "colab": {
          "base_uri": "https://localhost:8080/"
        },
        "id": "mdsow-ta_wMn",
        "outputId": "a108f2c3-a559-4adb-e5cf-36cf2f17e8b5"
      },
      "execution_count": 3,
      "outputs": [
        {
          "output_type": "stream",
          "name": "stdout",
          "text": [
            "                criteria  weight ratingA ratingB scoreA scoreB\n",
            "0                   risk    0.10     NaN     NaN    NaN    NaN\n",
            "1                    ROI    0.15     NaN     NaN    NaN    NaN\n",
            "2            feasibility    0.30     NaN     NaN    NaN    NaN\n",
            "3  customer satisfaction    0.15     NaN     NaN    NaN    NaN\n",
            "4    strategic alignment    0.30     NaN     NaN    NaN    NaN\n"
          ]
        }
      ]
    },
    {
      "cell_type": "code",
      "source": [
        "# step 3: rate each alternative across all criteria\n",
        "# choose a scale: 1-3, 1-5, ...\n",
        "# higher number: alternative is doing better regarding given criterion\n",
        "\n",
        "print(\"Enter a score for each criteria\\n\")\n",
        "print(\"Alternative A\")\n",
        "\n",
        "for row in AA.index:\n",
        "  print(AA['criteria'][row],\":  \",end=\"\")\n",
        "  AA['ratingA'][row] = input()\n",
        "\n",
        "print(\"\\nAlternative B\")\n",
        "\n",
        "for row in AA.index:\n",
        "  print(AA['criteria'][row],\":  \",end=\"\")\n",
        "  AA['ratingB'][row] = input()\n",
        "\n",
        "#AA['ratingA'] = [4,1,2,1,5]\n",
        "#AA['ratingB'] = [3,4,2,3,2]"
      ],
      "metadata": {
        "colab": {
          "base_uri": "https://localhost:8080/"
        },
        "id": "NZUE1SFLAoOr",
        "outputId": "696575ee-4feb-4fdf-de42-6b24599eeb26"
      },
      "execution_count": 14,
      "outputs": [
        {
          "name": "stdout",
          "output_type": "stream",
          "text": [
            "Enter a score for each criteria\n",
            "\n",
            "Alternative A\n",
            "risk :  2\n"
          ]
        },
        {
          "output_type": "stream",
          "name": "stderr",
          "text": [
            "/usr/local/lib/python3.7/dist-packages/ipykernel_launcher.py:10: SettingWithCopyWarning: \n",
            "A value is trying to be set on a copy of a slice from a DataFrame\n",
            "\n",
            "See the caveats in the documentation: https://pandas.pydata.org/pandas-docs/stable/user_guide/indexing.html#returning-a-view-versus-a-copy\n",
            "  # Remove the CWD from sys.path while we load stuff.\n"
          ]
        },
        {
          "name": "stdout",
          "output_type": "stream",
          "text": [
            "ROI :  4\n",
            "feasibility :  1\n",
            "customer satisfaction :  5\n",
            "strategic alignment :  3\n",
            "\n",
            "Alternative B\n",
            "risk :  1\n"
          ]
        },
        {
          "output_type": "stream",
          "name": "stderr",
          "text": [
            "/usr/local/lib/python3.7/dist-packages/ipykernel_launcher.py:16: SettingWithCopyWarning: \n",
            "A value is trying to be set on a copy of a slice from a DataFrame\n",
            "\n",
            "See the caveats in the documentation: https://pandas.pydata.org/pandas-docs/stable/user_guide/indexing.html#returning-a-view-versus-a-copy\n",
            "  app.launch_new_instance()\n"
          ]
        },
        {
          "name": "stdout",
          "output_type": "stream",
          "text": [
            "ROI :  2\n",
            "feasibility :  5\n",
            "customer satisfaction :  3\n",
            "strategic alignment :  1\n"
          ]
        }
      ]
    },
    {
      "cell_type": "code",
      "source": [
        "# step 4: calculate partial scores by ratings*weights\n",
        "# using iterrows is an anti-pattern (not preferred)\n",
        "\n",
        "for index, row in AA.iterrows():\n",
        "  AA['scoreA'][index] = row['weight']*row['ratingA']\n",
        "  AA['scoreB'][index] = row['weight']*row['ratingB']\n",
        "\n",
        "print(AA)"
      ],
      "metadata": {
        "colab": {
          "base_uri": "https://localhost:8080/"
        },
        "id": "kKgfRVGlk9Ku",
        "outputId": "4d3fdbc1-71b2-4d2f-fcee-fd32c42443e1"
      },
      "execution_count": 15,
      "outputs": [
        {
          "output_type": "stream",
          "name": "stdout",
          "text": [
            "                criteria  weight  ratingA  ratingB scoreA scoreB\n",
            "0                   risk    0.10        2        1    0.2    0.1\n",
            "1                    ROI    0.15        4        2    0.6    0.3\n",
            "2            feasibility    0.30        1        5    0.3    1.5\n",
            "3  customer satisfaction    0.15        5        3   0.75   0.45\n",
            "4    strategic alignment    0.30        3        1    0.9    0.3\n"
          ]
        },
        {
          "output_type": "stream",
          "name": "stderr",
          "text": [
            "/usr/local/lib/python3.7/dist-packages/ipykernel_launcher.py:5: SettingWithCopyWarning: \n",
            "A value is trying to be set on a copy of a slice from a DataFrame\n",
            "\n",
            "See the caveats in the documentation: https://pandas.pydata.org/pandas-docs/stable/user_guide/indexing.html#returning-a-view-versus-a-copy\n",
            "  \"\"\"\n",
            "/usr/local/lib/python3.7/dist-packages/ipykernel_launcher.py:6: SettingWithCopyWarning: \n",
            "A value is trying to be set on a copy of a slice from a DataFrame\n",
            "\n",
            "See the caveats in the documentation: https://pandas.pydata.org/pandas-docs/stable/user_guide/indexing.html#returning-a-view-versus-a-copy\n",
            "  \n"
          ]
        }
      ]
    },
    {
      "cell_type": "code",
      "source": [
        "# step 5: add up partial scores to get a total score\n",
        "# alternative with highest total score should be proposed\n",
        "\n",
        "totalScoreA = 0\n",
        "totalScoreB = 0\n",
        "\n",
        "for index, row in AA.iterrows():\n",
        "  totalScoreA += row['scoreA']\n",
        "  totalScoreB += row['scoreB']\n",
        "\n",
        "print('Total score for alternative A is {:.2f} and for alternative B is {:.2f}'.format(totalScoreA, totalScoreB))"
      ],
      "metadata": {
        "colab": {
          "base_uri": "https://localhost:8080/"
        },
        "id": "tWnODfHzB2vk",
        "outputId": "53bf8f10-109a-48a7-826e-669fc4def486"
      },
      "execution_count": 16,
      "outputs": [
        {
          "output_type": "stream",
          "name": "stdout",
          "text": [
            "Total score for alternative A is 2.75 and for alternative B is 2.65\n"
          ]
        }
      ]
    }
  ]
}