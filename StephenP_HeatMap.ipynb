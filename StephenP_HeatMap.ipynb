{
  "nbformat": 4,
  "nbformat_minor": 0,
  "metadata": {
    "colab": {
      "name": "StephenP_HeatMap.ipynb",
      "provenance": []
    },
    "kernelspec": {
      "name": "python3",
      "display_name": "Python 3"
    },
    "language_info": {
      "name": "python"
    }
  },
  "cells": [
    {
      "cell_type": "code",
      "execution_count": 10,
      "metadata": {
        "id": "fgrrcPdJs2Hg"
      },
      "outputs": [],
      "source": [
        "# library\n",
        "import seaborn as sns\n",
        "import pandas as pd\n",
        "import numpy as np\n",
        "\n",
        "# Create a dataframe\n",
        "df = pd.DataFrame(columns=['risk','likelihood','impact','score'])"
      ]
    },
    {
      "cell_type": "code",
      "source": [
        "# identify list of uncertainties\n",
        "df['risk'] = ['users', 'team', 'budget', 'security']"
      ],
      "metadata": {
        "id": "Fh15-o-jySZP"
      },
      "execution_count": 11,
      "outputs": []
    },
    {
      "cell_type": "code",
      "source": [
        "# estimate likelihood of happening [0,1]\n",
        "df['likelihood'] = [0.2, 0.3, 0.1, 0.5]\n",
        "\n",
        "# assess severity of impact if uncertainty happens\n",
        "df['impact'] = [1,2,7,10]"
      ],
      "metadata": {
        "id": "Pezo4jKovGef"
      },
      "execution_count": 12,
      "outputs": []
    },
    {
      "cell_type": "code",
      "source": [
        "# calculate scores \n",
        "df['score'] = df['impact']*df['likelihood']"
      ],
      "metadata": {
        "id": "-Wz9GNWAvkpN"
      },
      "execution_count": 13,
      "outputs": []
    },
    {
      "cell_type": "code",
      "source": [
        "# create heatmap\n",
        "scoresPivot = df.pivot('impact', 'likelihood', 'score')\n",
        "print(scoresPivot)\n",
        "\n",
        "labelsPivot = df.pivot('impact', 'likelihood', 'risk')\n",
        "print(labelsPivot)\n",
        "\n",
        "\n",
        "# simple heatmap\n",
        "p1 = sns.heatmap(scoresPivot, cmap=\"RdYlGn_r\", annot=labelsPivot, fmt='')"
      ],
      "metadata": {
        "colab": {
          "base_uri": "https://localhost:8080/",
          "height": 501
        },
        "id": "y7cb-yRVvvTZ",
        "outputId": "8c5a7f32-beb8-4082-8ea9-f49a0a1b3d68"
      },
      "execution_count": 14,
      "outputs": [
        {
          "output_type": "stream",
          "name": "stdout",
          "text": [
            "likelihood  0.1  0.2  0.3  0.5\n",
            "impact                        \n",
            "1           NaN  0.2  NaN  NaN\n",
            "2           NaN  NaN  0.6  NaN\n",
            "7           0.7  NaN  NaN  NaN\n",
            "10          NaN  NaN  NaN  5.0\n",
            "likelihood     0.1    0.2   0.3       0.5\n",
            "impact                                   \n",
            "1              NaN  users   NaN       NaN\n",
            "2              NaN    NaN  team       NaN\n",
            "7           budget    NaN   NaN       NaN\n",
            "10             NaN    NaN   NaN  security\n"
          ]
        },
        {
          "output_type": "display_data",
          "data": {
            "image/png": "[encoded data removed]",
            "text/plain": [
              "<Figure size 432x288 with 2 Axes>"
            ]
          },
          "metadata": {
            "needs_background": "light"
          }
        }
      ]
    }
  ]
}