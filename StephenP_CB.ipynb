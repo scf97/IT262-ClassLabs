{
  "nbformat": 4,
  "nbformat_minor": 0,
  "metadata": {
    "colab": {
      "name": "StephenP_CB.ipynb",
      "provenance": [],
      "collapsed_sections": []
    },
    "kernelspec": {
      "name": "python3",
      "display_name": "Python 3"
    },
    "language_info": {
      "name": "python"
    }
  },
  "cells": [
    {
      "cell_type": "code",
      "execution_count": 2,
      "metadata": {
        "colab": {
          "base_uri": "https://localhost:8080/"
        },
        "id": "mhoQ5xsm8Zhp",
        "outputId": "6699668a-5851-44b6-c66b-b30880de11cb"
      },
      "outputs": [
        {
          "output_type": "stream",
          "name": "stdout",
          "text": [
            "   years  developmentCost  operationalCost  valueOfBenefits\n",
            "0      0             -100                0                0\n",
            "1      1              -30              -10               25\n",
            "2      2                0              -15               55\n",
            "3      3                0              -15               85\n"
          ]
        }
      ],
      "source": [
        "import pandas as pd\n",
        "import math\n",
        "\n",
        "dataT = pd.read_csv(\"/content/drive/MyDrive/262-CBA.csv\")\n",
        "print(dataT)"
      ]
    },
    {
      "cell_type": "code",
      "source": [
        "discountRate = 0.05\n",
        "\n",
        "#calculate compound discount over time\n",
        "#initialize a list of 4 elements, one for each year (0 to 3)\n",
        "\n",
        "discountFactor = [0,0,0,0]\n",
        "\n",
        "for year in dataT['years']:\n",
        "  discountFactor[year] = 1/math.pow(1+discountRate, year)\n",
        "\n",
        "dataT['discountFactor'] = [round(num,2) for num in discountFactor]\n",
        "print(dataT)"
      ],
      "metadata": {
        "colab": {
          "base_uri": "https://localhost:8080/"
        },
        "id": "yW0xAjZ29_W7",
        "outputId": "130643ea-b7ee-4dbe-da2c-711a810077fe"
      },
      "execution_count": 4,
      "outputs": [
        {
          "output_type": "stream",
          "name": "stdout",
          "text": [
            "   years  developmentCost  operationalCost  valueOfBenefits  discountFactor\n",
            "0      0             -100                0                0            1.00\n",
            "1      1              -30              -10               25            0.95\n",
            "2      2                0              -15               55            0.91\n",
            "3      3                0              -15               85            0.86\n"
          ]
        }
      ]
    },
    {
      "cell_type": "code",
      "source": [
        "#calculate net benefit/cost for each year\n",
        "#sum of all benefits and costs for each year : op cost + dev cost + benefit\n",
        "\n",
        "#initialize a list of 4 items\n",
        "NetBC = [0,0,0,0]\n",
        "\n",
        "for year in dataT['years']:\n",
        "  NetBC[year] = dataT['developmentCost'][year] + dataT['operationalCost'][year] + dataT['valueOfBenefits'][year]\n",
        "\n",
        "dataT['NetBC'] = NetBC\n",
        "print(dataT)"
      ],
      "metadata": {
        "colab": {
          "base_uri": "https://localhost:8080/"
        },
        "id": "LEieIM6yAxvD",
        "outputId": "c9c93fbb-04d9-482f-9866-cb34dbd5edb3"
      },
      "execution_count": 7,
      "outputs": [
        {
          "output_type": "stream",
          "name": "stdout",
          "text": [
            "   years  developmentCost  ...  discountFactor  NetBC\n",
            "0      0             -100  ...            1.00   -100\n",
            "1      1              -30  ...            0.95    -15\n",
            "2      2                0  ...            0.91     40\n",
            "3      3                0  ...            0.86     70\n",
            "\n",
            "[4 rows x 6 columns]\n"
          ]
        }
      ]
    },
    {
      "cell_type": "code",
      "source": [
        "#calculate the present value of the net b/c for each year (NPV)\n",
        "\n",
        "#initialize a list of 4 items: one for each year\n",
        "NPV = [0,0,0,0]\n",
        "\n",
        "for year in dataT['years']:\n",
        "  NPV[year] = dataT['NetBC'][year] * dataT['discountFactor'][year]\n",
        "\n",
        "dataT['NPV'] = [round(num, 2) for num in NPV]\n",
        "print(dataT)"
      ],
      "metadata": {
        "colab": {
          "base_uri": "https://localhost:8080/"
        },
        "id": "ZpB8HyHOC5wd",
        "outputId": "c24640e2-687d-4b93-b5fc-b0b73fdb399d"
      },
      "execution_count": 8,
      "outputs": [
        {
          "output_type": "stream",
          "name": "stdout",
          "text": [
            "   years  developmentCost  operationalCost  ...  discountFactor  NetBC     NPV\n",
            "0      0             -100                0  ...            1.00   -100 -100.00\n",
            "1      1              -30              -10  ...            0.95    -15  -14.25\n",
            "2      2                0              -15  ...            0.91     40   36.40\n",
            "3      3                0              -15  ...            0.86     70   60.20\n",
            "\n",
            "[4 rows x 7 columns]\n"
          ]
        }
      ]
    }
  ]
}